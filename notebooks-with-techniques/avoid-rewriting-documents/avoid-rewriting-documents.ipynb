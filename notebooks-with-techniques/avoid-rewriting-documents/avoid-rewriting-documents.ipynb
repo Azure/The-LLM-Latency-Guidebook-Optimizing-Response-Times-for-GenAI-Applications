{
 "cells": [
  {
   "cell_type": "markdown",
   "metadata": {},
   "source": [
    "# Avoid Rewriting Documents"
   ]
  },
  {
   "cell_type": "code",
   "execution_count": 1,
   "metadata": {},
   "outputs": [],
   "source": [
    "import datetime\n",
    "import json\n",
    "import time\n",
    "import os\n",
    "import datetime\n",
    "import json\n",
    "import time\n",
    "from openai import AzureOpenAI\n",
    "from dotenv import load_dotenv\n",
    "import json\n",
    "import copy\n",
    "import textwrap\n",
    "\n",
    "# Load environment variables\n",
    "load_dotenv()\n",
    "\n",
    "def aoai_call(system_message,prompt,model):\n",
    "    client = AzureOpenAI(\n",
    "        api_version=os.getenv(\"API_VERSION\"),\n",
    "        azure_endpoint=os.getenv(\"AZURE_ENDPOINT\"),\n",
    "        api_key=os.getenv(\"API_KEY\")\n",
    "    )\n",
    "\n",
    "    start_time = time.time()\n",
    "\n",
    "    completion = client.chat.completions.create(\n",
    "        model=model,\n",
    "        messages=[\n",
    "            {\"role\": \"system\", \"content\": system_message},\n",
    "            {\"role\": \"user\", \"content\": prompt},\n",
    "        ],\n",
    "    )\n",
    "\n",
    "    end_time = time.time()\n",
    "    e2e_time = end_time - start_time\n",
    "\n",
    "    result=json.loads(completion.model_dump_json(indent=2))\n",
    "    prompt_tokens=result[\"usage\"][\"prompt_tokens\"]\n",
    "    completion_tokens=result[\"usage\"][\"completion_tokens\"]\n",
    "    completion_text=result[\"choices\"][0][\"message\"][\"content\"]\n",
    "\n",
    "    return result,prompt_tokens,completion_tokens,completion_text,e2e_time\n",
    "\n",
    "model=os.getenv(\"MODELGPT432k\")\n",
    "\n",
    "# Read essay from a text file\n",
    "with open('document_with_errors.txt', 'r') as f:\n",
    "    document_with_errors = f.read()\n"
   ]
  },
  {
   "cell_type": "markdown",
   "metadata": {},
   "source": [
    "# Use Case: Rewrite document to fix grammar and spelling errors\n"
   ]
  },
  {
   "cell_type": "markdown",
   "metadata": {},
   "source": [
    "### A: LLM used to rewrite document and implement corrections\n",
    "\n",
    "Time taken: 315s"
   ]
  },
  {
   "cell_type": "code",
   "execution_count": 2,
   "metadata": {},
   "outputs": [
    {
     "name": "stdout",
     "output_type": "stream",
     "text": [
      "Total Prompt Tokens: 3381\n",
      "Total Completion Tokens: 2081\n",
      "Total Time Taken: 132.26 seconds\n",
      "Rewritten Document: \n",
      "List of Errors to Correct: []\n"
     ]
    }
   ],
   "source": [
    "import json\n",
    "import textwrap\n",
    "\n",
    "# Initialize variables\n",
    "total_prompt_tokens = 0\n",
    "total_completion_tokens = 0\n",
    "total_time = 0\n",
    "rewritten_document = \"\"\n",
    "list_of_errors_to_correct = []\n",
    "completion_text_list=[]\n",
    "\n",
    "# Split the text into chunks of words\n",
    "chunks = textwrap.wrap(document_with_errors, 1000)\n",
    "for i, chunk in enumerate(chunks):\n",
    "    system_message=\"\"\"\n",
    "    You are a helpful AI assistant.\n",
    "    \"\"\"\n",
    "    prompt=f\"\"\"\n",
    "    Document to correct:\n",
    "    {chunk}\n",
    "\n",
    "    \"\"\"\n",
    "    prompt=prompt+\"\"\"\n",
    "    The output should be a JSON object. Only return the JSON object, with no comments or additional text.\n",
    "    Use this structure:\n",
    "    {\n",
    "        \"rewritten_document\": \"The document with the errors corrected.\",\n",
    "        \"list_of_errors_to_correct\": [\n",
    "            {\n",
    "                \"explanation_of_violation\": \"Think step-by-step about identifying potential spelling errors or grammar issues. Consider all errors together and consider the whole sentence of text before applying a rule.\",\n",
    "                \"violating_text\": \"If there is a error fill this with the errors text sub-string, consider the full sentence and context of the incorrect text before filling this in\",\n",
    "                \"fixed_text\": \"Think step by step about the error and then fill this with the fixed version of the text, don't apply any other fixes apart from the error if there is one\"\n",
    "            }\n",
    "        ]\n",
    "    }\n",
    "    JSON:\n",
    "    \"\"\"\n",
    "\n",
    "    result,prompt_tokens,completion_tokens,completion_text,e2e_time=aoai_call(system_message,prompt,model)\n",
    "    total_prompt_tokens += prompt_tokens\n",
    "    total_completion_tokens += completion_tokens\n",
    "    total_time += e2e_time\n",
    "    completion_text_list.append(completion_text)\n",
    "\n",
    "# Print totals\n",
    "print(f\"Total Prompt Tokens: {total_prompt_tokens}\")\n",
    "print(f\"Total Completion Tokens: {total_completion_tokens}\")\n",
    "print(f\"Total Time Taken: {total_time:.2f} seconds\")\n",
    "print(f\"Rewritten Document: {rewritten_document}\")\n",
    "print(f\"List of Errors to Correct: {list_of_errors_to_correct}\")"
   ]
  },
  {
   "cell_type": "code",
   "execution_count": 3,
   "metadata": {},
   "outputs": [
    {
     "name": "stdout",
     "output_type": "stream",
     "text": [
      "Product Launch: Global Expansion of a Leading RTS Video Game  Executive Summary:  The launch of our flagship real-time strategy (RTS) video game has set a new benchmark in the North American markets. The enthusiasm and response received have been exceptional, resulting in sales figures that outperformed our initial projections by 1.5 times. As we expanded into global markets, the international sales figures mirrored this success, attesting to the game's universal appeal. However, despite the impressive sales numbers, user feedback related to the game's micro-transaction system has been less than ideal, indicating an area requiring our immediate attention. This report will delve deeper into the product's description, its performance in different markets, user feedback and our plans for future improvements.  Product Description:  Our RTS game provides a unique blend of immersive gameplay, a dynamic environment, and strategic planning. The game has been designed to engage players in an immersive experience,The game engages users with exhaustive strategic decisions involving efficient resource management. The extensive game maps provide a host of challenges, integrated with different kinds of terrains and points that need strategic planning. The varied characters with their individual skills and abilities further add to the game's density. Players are required to manage their virtual resources to upgrade their stations, enhance their units, and upgrade to newer technologies. However, the micro-transaction system of the game has attracted criticism from the user base. The system permits players to buy virtual currency using actual money to speed up their game progress, a feature that has been largely perceived negatively by many users. Sales Performance: The initial projections for the North American market were gauged at 1 million units. However, the game's actual sales figures are yet to be revealed.Echoing sentiments from North America, the game's real-time strategic elements were lauded, yet concerns were voiced over its pay-to-win model. 'The game is getting too expensive with this pay-to-win model', she stated. Takeshi of Asia also raised concerns about the micro-transaction system, saying, 'This is a game I can spend hours on, but those micro-transactions need some regulations.' Despite the criticism surrounding the micro-transaction system, the robust sales figures of the game attest to its quality and appeal. However, the feedback regarding micro-transactions indicates an area needing improvement. Striking a balance between user satisfaction and profit margins is essential to ensure the continued success of the game. Moving forward, our primary focus will be to re-evaluate our micro-transaction system. We aim to establish a system that is fair, transparent, and enhances the overall gaming experience.The statement, 'it's almost impossible to make progress without spending excessively on in-game purchases,' suggests that while the game's mechanics are appreciated, the micro-transaction system can hinder progression for some players. Lilly, a North American player, expressed her admiration for the game's strategic elements, stating, 'I absolutely love the real-time strategic elements; they offer a thrilling challenge.' However, she too criticized the micro-transaction system, asserting, 'The game is getting too expensive with the pay-to-win model.' This feedback highlights the necessity of a balanced micro-transaction system that doesn't afford an unfair advantage to players willing to spend more. Takeshi, an Asian player who spent hours playing the game, expressed his dissatisfaction with the micro-transaction system, stating, 'those micro-transactions need some regulations.' This feedback indicates that although the game is engaging, the micro-transaction system requires some modification.The system can negatively impact the overall gaming experience.  Appendix C: Future Directions and Strategies  Our future direction involves a thorough re-evaluation of our micro-transaction system. We aim to create a system that is fair and transparent, and that enhances the gaming experience without making the game unbalanced or overly expensive. We will also strategize to penetrate further into underperforming markets. We intend to tailor our marketing and distribution strategies to the unique requirements of each market. This will involve conducting market research to understand the gaming preferences and purchasing power of potential customers in these markets, and adjusting our strategies accordingly. In conclusion, our game has shown tremendous potential in both regional and global markets. By addressing the concerns regarding our micro-transaction system and strategizing to penetrate further into underperforming markets, we are confident that we can ensure the game's continued\n"
     ]
    }
   ],
   "source": [
    "import json\n",
    "\n",
    "# Assuming completion_text_list is your list of dictionaries\n",
    "combined_list = {\"list_of_errors_to_correct\":[],\"rewritten_document\":\"\"}\n",
    "\n",
    "for completion_text in completion_text_list:\n",
    "    json_string = completion_text.replace('\\n', '')\n",
    "    data = json.loads(json_string)\n",
    "    if not data[\"list_of_errors_to_correct\"]:\n",
    "        pass\n",
    "    else:\n",
    "        combined_list[\"list_of_errors_to_correct\"].append(data[\"list_of_errors_to_correct\"])\n",
    "        combined_list[\"rewritten_document\"]=combined_list[\"rewritten_document\"]+data[\"rewritten_document\"]\n",
    "\n",
    "document_with_corrections=combined_list[\"rewritten_document\"]\n",
    "print(document_with_corrections)"
   ]
  },
  {
   "cell_type": "markdown",
   "metadata": {},
   "source": [
    "### B: LLM used to identify errors, and python used to implement corrections\n",
    "\n",
    "**Time taken: 19s**"
   ]
  },
  {
   "cell_type": "code",
   "execution_count": 11,
   "metadata": {},
   "outputs": [
    {
     "name": "stdout",
     "output_type": "stream",
     "text": [
      "Total Prompt Tokens: 3696\n",
      "Total Completion Tokens: 310\n",
      "Total Time Taken: 33.26 seconds\n",
      "Rewritten Document: \n",
      "List of Errors to Correct: ['\\n    {\\n        \"list_of_errors_to_correct\": []\\n    }', '\\n    {\\n        \"list_of_errors_to_correct\": [\\n            {\\n                \"explanation_of_violation\": \"Incorrect spelling of the word \\'projections\\'.\",\\n                \"violating_text\": \"Initial projecctions for the North American market were set at 1 million units.\",\\n                \"fixed_text\": \"Initial projections for the North American market were set at 1 million units.\"\\n            }\\n        ]\\n    }', '\\n    {\\n        \"list_of_errors_to_correct\": []\\n    }', '\\n    {\\n        \"list_of_errors_to_correct\": [\\n            {\\n                \"explanation_of_violation\": \"Incorrect verb agreement with the subject.\",\\n                \"violating_text\": \"but those micro-transactions needs some regulations\",\\n                \"fixed_text\": \"but those micro-transactions need some regulations\"\\n            }\\n        ]\\n    }', '\\n    {\\n        \"list_of_errors_to_correct\": []\\n    }', '\\n    {\\n        \"list_of_errors_to_correct\": []\\n    }', '\\n    {\\n        \"list_of_errors_to_correct\": []\\n    }', '\\n    {\\n        \"list_of_errors_to_correct\": [\\n            {\\n                \"explanation_of_violation\": \"Incorrect verb form was used, affecting the agreement between the subject and the verb.\",\\n                \"violating_text\": \"We aim to created a system\",\\n                \"fixed_text\": \"We aim to create a system\"\\n            }\\n        ]\\n    }', '\\n    {\\n        \"list_of_errors_to_correct\": []\\n    }']\n"
     ]
    }
   ],
   "source": [
    "import json\n",
    "import textwrap\n",
    "\n",
    "# Initialize variables\n",
    "total_prompt_tokens = 0\n",
    "total_completion_tokens = 0\n",
    "total_time = 0\n",
    "rewritten_document = \"\"\n",
    "list_of_errors_to_correct = []\n",
    "completion_text_list=[]\n",
    "\n",
    "# Split the text into chunks of words\n",
    "chunks = textwrap.wrap(document_with_errors, 1000)\n",
    "for i, chunk in enumerate(chunks):\n",
    "    system_message=\"\"\"\n",
    "    You are a helpful AI assistant.\n",
    "    \"\"\"\n",
    "    prompt=f\"\"\"\n",
    "    Document to correct:\n",
    "    {chunk}\n",
    "\n",
    "    \"\"\"\n",
    "    prompt=prompt+\"\"\"\n",
    "    The output should be a JSON object. Only return the JSON object, with no comments or additional text.\n",
    "    Use this structure:\n",
    "    {\n",
    "        \"list_of_errors_to_correct\": [\n",
    "            {\n",
    "                \"explanation_of_violation\": \"Think step-by-step about identifying potential spelling errors or grammar issues. Consider all errors together and consider the whole sentence of text before applying a rule.\",\n",
    "                \"violating_text\": \"If there is a error fill this with the errors text sub-string, consider the full sentence and context of the incorrect text before filling this in\",\n",
    "                \"fixed_text\": \"Think step by step about the error and then fill this with the fixed version of the text, don't apply any other fixes apart from the error if there is one\"\n",
    "            }\n",
    "        ]\n",
    "    }\n",
    "\n",
    "    If there are no errors, return:\n",
    "    {\n",
    "        \"list_of_errors_to_correct\": []\n",
    "    }\n",
    "    It is crucial that you never add any commentary or additional text. Only return the JSON object, starting with { and ending with }\n",
    "    JSON:\n",
    "    \"\"\"\n",
    "\n",
    "    result,prompt_tokens,completion_tokens,completion_text,e2e_time=aoai_call(system_message,prompt,model)\n",
    "    total_prompt_tokens += prompt_tokens\n",
    "    total_completion_tokens += completion_tokens\n",
    "    total_time += e2e_time\n",
    "    completion_text_list.append(completion_text)\n",
    "\n",
    "# Print totals\n",
    "print(f\"Total Prompt Tokens: {total_prompt_tokens}\")\n",
    "print(f\"Total Completion Tokens: {total_completion_tokens}\")\n",
    "print(f\"Total Time Taken: {total_time:.2f} seconds\")\n",
    "print(f\"Rewritten Document: {rewritten_document}\")\n",
    "print(f\"List of Errors to Correct: {completion_text_list}\")"
   ]
  },
  {
   "cell_type": "code",
   "execution_count": 12,
   "metadata": {},
   "outputs": [
    {
     "data": {
      "text/plain": [
       "['\\n    {\\n        \"list_of_errors_to_correct\": []\\n    }',\n",
       " '\\n    {\\n        \"list_of_errors_to_correct\": [\\n            {\\n                \"explanation_of_violation\": \"Incorrect spelling of the word \\'projections\\'.\",\\n                \"violating_text\": \"Initial projecctions for the North American market were set at 1 million units.\",\\n                \"fixed_text\": \"Initial projections for the North American market were set at 1 million units.\"\\n            }\\n        ]\\n    }',\n",
       " '\\n    {\\n        \"list_of_errors_to_correct\": []\\n    }',\n",
       " '\\n    {\\n        \"list_of_errors_to_correct\": [\\n            {\\n                \"explanation_of_violation\": \"Incorrect verb agreement with the subject.\",\\n                \"violating_text\": \"but those micro-transactions needs some regulations\",\\n                \"fixed_text\": \"but those micro-transactions need some regulations\"\\n            }\\n        ]\\n    }',\n",
       " '\\n    {\\n        \"list_of_errors_to_correct\": []\\n    }',\n",
       " '\\n    {\\n        \"list_of_errors_to_correct\": []\\n    }',\n",
       " '\\n    {\\n        \"list_of_errors_to_correct\": []\\n    }',\n",
       " '\\n    {\\n        \"list_of_errors_to_correct\": [\\n            {\\n                \"explanation_of_violation\": \"Incorrect verb form was used, affecting the agreement between the subject and the verb.\",\\n                \"violating_text\": \"We aim to created a system\",\\n                \"fixed_text\": \"We aim to create a system\"\\n            }\\n        ]\\n    }',\n",
       " '\\n    {\\n        \"list_of_errors_to_correct\": []\\n    }']"
      ]
     },
     "execution_count": 12,
     "metadata": {},
     "output_type": "execute_result"
    }
   ],
   "source": [
    "completion_text_list"
   ]
  },
  {
   "cell_type": "code",
   "execution_count": 13,
   "metadata": {},
   "outputs": [
    {
     "name": "stdout",
     "output_type": "stream",
     "text": [
      "Product Launch: Global Expansion of a Leading RTS Video Game\n",
      "\n",
      "Executive Summary:\n",
      "\n",
      "The launch of our flagship real time strategy (RTS) video game has set a new benchmark in the North American markets. The enthusiasm and response received have been exceptional, resulting in sales figures that outstripped our initial projections by 1.5 times. As we expanded into global markets, the international sales figures mirrored this success, testifying to the game's universal appeal. However, despite the impressive sales numbers, user feedback regarding the game's micro-transaction system has been less than stellar, indicating an area that requires our immediate attention. This report will delve deeper into the product's description, its performance in different markets, user feedback and our plans for future improvements.\n",
      "\n",
      "Product Description:\n",
      "\n",
      "Our RTS game offers a unique blend of immersive gameplay, a dynamic environment, and strategic planning. The game has been designed to engage players in an intricate web of tactical decisions and resource management. The expansive game maps offer a plethora of challenges, with varying terrain types and strategic points that players must consider. The diverse cast of characters, each with their unique abilities and skillsets, adds another layer of complexity to the game. Players must also manage their in-game resources to build and upgrade their bases, train their units, and research new technologies.\n",
      "\n",
      "However, the game's micro-transaction system has been a point of contention among our user base. The system allows players to purchase in-game currency with real money, which can then be used to expedite the progress of their game. Despite our intentions to provide an avenue for players who wish to accelerate their progress, this feature has been perceived negatively by a significant portion of our users.\n",
      "\n",
      "Sales Performance:\n",
      "\n",
      "Initial projections for the North American market were set at 1 million units. However, the game's actual performance exceeded our expectations, achieving sales of 1.5 million units. This success was replicated in our international markets. Europe and Asia emerged as the strongest markets, with sales of 1.8 and 2.0 million units respectively. Despite lower sales numbers, the Latin American and African markets also showed potential, with sales of 0.5 and 0.3 million units respectively.\n",
      "\n",
      "An in-depth analysis revealed that our marketing strategies, coupled with the game's unique features, were key drivers of this impressive performance. However, it also highlighted the need to tailor our marketing and distribution strategies to the specific requirements of each market to achieve better penetration.\n",
      "\n",
      "User Feedback:\n",
      "\n",
      "User feedback has been a mixed bag. Jake, a European user, praised the game's mechanics but criticized the micro-transaction system, stating, 'The game mechanics are fabulous, but it's almost impossible to make progress without spending excessively on in-game purchases.' Lilly, from North America, echoed these sentiments. While she lauded the game's real-time strategic elements, she voiced her concerns about the game's pay-to-win model, stating, 'The game is getting too expensive with this pay-to-win model.' Takeshi, from Asia, also raised concerns over the micro-transaction system, stating, 'This is a game I can spend hours on, but those micro-transactions need some regulations.'\n",
      "\n",
      "Conclusion:\n",
      "\n",
      "Despite the criticism surrounding the micro-transaction system, the game's robust sales figures are a testament to its appeal and quality. Nevertheless, the feedback regarding micro-transactions signifies an area that needs improvement. We must strike a balance between maintaining user satisfaction and our profit margins to ensure the game's continued success.\n",
      "\n",
      "Future Directions:\n",
      "\n",
      "Moving forward, our primary focus will be on re-evaluating our micro-transaction system. We aim to create a system that is fair, transparent, and adds to the overall gaming experience without making the game overly expensive or unbalanced. We will also be devising strategies to further penetrate underperforming markets, tailoring our marketing and distribution strategies to suit the unique requirements of each market. We are confident that with these improvements, our game will continue to be a leader.\n",
      "\n",
      "Appendix A: Detailed Sales Performance\n",
      "\n",
      "The sales performance of our RTS video game far exceeded our initial projections, demonstrating the game's universal appeal. We had initially projected sales of one million units in the North American markets. However, the game's actual sales reached 1.5 million units, surpassing our projections by 50%. This success was not confined to North America. The game also saw robust sales in other international markets.\n",
      "\n",
      "In Europe, we recorded strong sales of 1.8 million units. This was primarily driven by the games popularity in Western European countries such as the United Kingdom, Germany, and France. In Asia, the game outperformed even our European sales, with a total of 2.0 million units sold. Key markets in Asia included Japan, South Korea, and China.\n",
      "\n",
      "Despite trailing behind in terms of sales numbers, the Latin American and African markets also showed potential. In Latin America, we sold 0.5 million units, with Brazil and Mexico being the leading markets. The African market recorded sales of 0.3 million units. Although these figures are lower compared to our other markets, they indicate a growing interest in RTS games in these regions, and represent an opportunity for further growth.\n",
      "\n",
      "Appendix B: User Feedback Analysis\n",
      "\n",
      "User feedback plays a crucial role in understanding the strengths and weaknesses of our game. The feedback we received was mixed, with players praising the game's mechanics and strategic elements, but criticizing the micro-transaction system.\n",
      "\n",
      "Jake, from Europe, praised the game's mechanics, stating, 'The game mechanics are fabulous.' However, he also commented on the micro-transaction system, saying, 'it's almost impossible to make progress without spending excessively on in-game purchases.' This feedback indicates that while the game's mechanics are appreciated, the micro-transaction system can be a barrier to progression for some players.\n",
      "\n",
      "Lilly, from North America, also expressed her admiration for the game's strategic elements, stating, 'I absolutely love the real-time strategic elements; they offer a thrilling challenge.' However, she too criticized the micro-transaction system, stating, 'The game is getting too expensive with this pay-to-win model.' This feedback emphasizes the need for a more balanced micro-transaction system that doesn't give an unfair advantage to players who are willing to spend more.\n",
      "\n",
      "Takeshi, from Asia, spent hours playing the game, but he too expressed his dissatisfaction with the micro-transaction system, stating, 'those micro-transactions need some regulations.' This feedback suggests that while the game is engaging, the micro-transaction system can negatively impact the overall gaming experience.\n",
      "\n",
      "Appendix C: Future Directions and Strategies\n",
      "\n",
      "Our future direction involves a thorough re-evaluation of our micro-transaction system. We aim to create a system that is fair and transparent, and that enhances the gaming experience without making the game unbalanced or overly expensive.\n",
      "\n",
      "We will also strategize to penetrate further into underperforming markets. We intend to tailor our marketing and distribution strategies to the unique requirements of each market. This will involve conducting market research to understand the gaming preferences and purchasing power of potential customers in these markets, and adjusting our strategies accordingly.\n",
      "\n",
      "In conclusion, our game has shown tremendous potential in both regional and global markets. By addressing the concerns regarding our micro-transaction system and strategizing to penetrate further into underperforming markets, we are confident that we can ensure the game's continued success.\n"
     ]
    }
   ],
   "source": [
    "import json\n",
    "\n",
    "# Assuming completion_text_list is your list of dictionaries\n",
    "combined_list = {\"list_of_errors_to_correct\":[]}\n",
    "\n",
    "for completion_text in completion_text_list:\n",
    "    json_string = completion_text.replace('\\n', '')\n",
    "    data = json.loads(json_string)\n",
    "    if not data[\"list_of_errors_to_correct\"]:\n",
    "        pass\n",
    "    else:\n",
    "        combined_list[\"list_of_errors_to_correct\"].append(data[\"list_of_errors_to_correct\"])\n",
    "\n",
    "# Assuming document_with_errors is your text document\n",
    "for error_list in combined_list[\"list_of_errors_to_correct\"]:\n",
    "    for error_dict in error_list:\n",
    "        document_with_errors = document_with_errors.replace(error_dict['violating_text'], error_dict['fixed_text'])\n",
    "document_with_corrections=document_with_errors\n",
    "print(document_with_corrections)"
   ]
  }
 ],
 "metadata": {
  "kernelspec": {
   "display_name": ".venv",
   "language": "python",
   "name": "python3"
  },
  "language_info": {
   "codemirror_mode": {
    "name": "ipython",
    "version": 3
   },
   "file_extension": ".py",
   "mimetype": "text/x-python",
   "name": "python",
   "nbconvert_exporter": "python",
   "pygments_lexer": "ipython3",
   "version": "3.11.9"
  }
 },
 "nbformat": 4,
 "nbformat_minor": 2
}
