{
 "cells": [
  {
   "cell_type": "markdown",
   "metadata": {},
   "source": [
    "# Multilingual optimization\n",
    "\n",
    "LLMs are powerful tools which are able to natively take input in one language, and output the result in another. However, for certain languages, the number of characters represented by a single token differs from English. This means certain languages can be much slower for specific models. This varies from model to model, and language to language, so this is only an example of one such instance.\n",
    "\n",
    "By generating the output in English, and using another service to translate the text, a significant time saving can be achieved.\n",
    "\n",
    "Note that the accuracy of the translation needs to be tested, and this can be more difficult with streaming use cases."
   ]
  },
  {
   "cell_type": "code",
   "execution_count": 2,
   "metadata": {},
   "outputs": [
    {
     "name": "stdout",
     "output_type": "stream",
     "text": [
      "Successfully installed the required packages\n"
     ]
    }
   ],
   "source": [
    "import sys\n",
    "!{sys.executable} -m pip install azure-ai-translation-document==1.0.0\n",
    "!{sys.executable} -m pip install azure-ai-translation-text==1.0.0b1\n",
    "!{sys.executable} -m pip install azure-ai-textanalytics==5.2.0\n",
    "\n",
    "print(\"Successfully installed the required packages\")"
   ]
  },
  {
   "cell_type": "code",
   "execution_count": 3,
   "metadata": {},
   "outputs": [],
   "source": [
    "import os\n",
    "import time\n",
    "from openai import AzureOpenAI\n",
    "\n",
    "from azure.core.credentials import AzureKeyCredential\n",
    "from azure.ai.translation.document import DocumentTranslationClient\n",
    "from azure.ai.translation.text import TextTranslationClient, TranslatorCredential\n",
    "from azure.ai.translation.text.models import InputTextItem\n",
    "from azure.ai.textanalytics import TextAnalyticsClient\n",
    "from azure.core.exceptions import HttpResponseError\n",
    "\n",
    "from dotenv import load_dotenv\n"
   ]
  },
  {
   "cell_type": "code",
   "execution_count": 4,
   "metadata": {},
   "outputs": [],
   "source": [
    "## Load the enviornment variables\n",
    "load_dotenv()\n",
    "\n",
    "## Create the AOAI client and Azure AI Language API client\n",
    "\n",
    "client = AzureOpenAI(\n",
    "  azure_endpoint = os.getenv(\"AZURE_OPENAI_ENDPOINT\"), \n",
    "  api_key=os.getenv(\"AZURE_OPENAI_API_KEY\"),  \n",
    "  api_version=\"2024-02-15-preview\"\n",
    ")\n",
    "\n",
    "credential = TranslatorCredential(os.getenv(\"translator_api_key\"), os.getenv(\"translator_api_region\"))\n",
    "text_translator = TextTranslationClient(endpoint=os.getenv(\"translator_api_endpoint\"), credential=credential)\n",
    "\n",
    "ta_credential = AzureKeyCredential(os.getenv(\"language_api_key\"))\n",
    "text_analytics_client = TextAnalyticsClient(endpoint=os.getenv(\"language_api_endpoint\"), credential=ta_credential)"
   ]
  },
  {
   "cell_type": "markdown",
   "metadata": {},
   "source": [
    "### A: Base case - using the LLM to translate between languages\n",
    "\n",
    "**Time taken: 53 seconds**\n",
    "\n",
    "With LLM generating response in user's query language"
   ]
  },
  {
   "cell_type": "code",
   "execution_count": 15,
   "metadata": {},
   "outputs": [
    {
     "name": "stdout",
     "output_type": "stream",
     "text": [
      "Total time taken :  53.30297660827637\n",
      "1. स्वास्थ्य वर्धन: नियमित व्यायाम से हृदय और फेफड़ों की कार्यक्षमता बढ़ती है, और यह ब्लड प्रेशर और कोलेस्ट्रॉल को नियंत्रित करता है।\n",
      "\n",
      "2. वजन नियंत्रण: एक्सरसाइज करने से कैलोरी बर्न होती है, जिससे वजन नियंत्रण में मदद मिलती है और मोटापे का जोखिम कम होता है।\n",
      "\n",
      "3. मानसिक स्वास्थ्य: व्यायाम से तनाव, चिंता और अवसाद के लक्षण कम होते हैं और यह मूड को बेहतर बनाता है।\n",
      "\n",
      "4. ऊर्जा वृद्धि: नियमित शारीरिक गतिविधि से ऊर्जा का स्तर बढ़ता है और थकान कम होती है।\n",
      "\n",
      "5. दीर्घायु: एक्सरसाइज से जीवन प्रत्याशा बढ़ती है और कई प्रकार के कैंसर, मधुमेह और हृदय रोगों का जोखिम कम होता है।\n"
     ]
    }
   ],
   "source": [
    "message_text = [{\"role\" : \"system\", \"content\" : \"You are a helpful AI assistant that helps people find information. Always reply in the user's language. Ex - English for English, Hinglish for Hinglish, Hindi for Hindi. Always reply in 5 bullet points.\"}, {\"role\" : \"user\", \"content\" : \"रोजाना एक्सरसाइज करने के क्या फायदे हैं\"}]\n",
    "start = time.time()\n",
    "\n",
    "completion = client.chat.completions.create(\n",
    "  model=\"gpt-4\", # model = \"deployment_name\"\n",
    "  messages = message_text,\n",
    "  temperature=0,\n",
    "  max_tokens=3000,\n",
    "  top_p=0.1,\n",
    "  frequency_penalty=0,\n",
    "  presence_penalty=0,\n",
    "  stop=None\n",
    ")\n",
    "end = time.time()\n",
    "total_time = end - start\n",
    "print(\"Total time taken : \", total_time)\n",
    "\n",
    "print(completion.choices[0].message.content)\n",
    "\n"
   ]
  },
  {
   "cell_type": "markdown",
   "metadata": {},
   "source": [
    "### B: Using another service to translate the output\n",
    "\n",
    "**Time taken: 16 seconds**\n",
    "\n",
    "The LLM is used to generate the output in English. The Azure Translator service is used to convert the output into the user's query language"
   ]
  },
  {
   "cell_type": "code",
   "execution_count": 17,
   "metadata": {},
   "outputs": [
    {
     "name": "stdout",
     "output_type": "stream",
     "text": [
      "Total time taken :  16.280856609344482\n",
      "- **हृदय स्वास्थ्य में सुधार करता है:** नियमित व्यायाम हृदय को मजबूत करता है और परिसंचरण में सुधार करता है, हृदय रोग के जोखिम को कम करता है और रक्तचाप को कम करता है।\n",
      "- **वजन प्रबंधन:** यह स्वस्थ वजन बनाए रखने, कैलोरी बर्न करने और मेटाबॉलिज्म बढ़ाने में मदद करता है।\n",
      "- **मानसिक स्वास्थ्य लाभ:** व्यायाम एंडोर्फिन जारी करता है जो अवसाद और चिंता के लक्षणों को कम करने और मूड में सुधार करने में मदद कर सकता है।\n",
      "- **मांसपेशियों और हड्डियों को मजबूत करता है:** नियमित शारीरिक गतिविधि मांसपेशियों और हड्डियों को मजबूत करती है, ऑस्टियोपोरोसिस के जोखिम को कम करती है और समग्र शरीर की ताकत और संतुलन में सुधार करती है।\n",
      "- **प्रतिरक्षा प्रणाली को बढ़ावा देता है:** दैनिक व्यायाम में संलग्न होने से प्रतिरक्षा प्रणाली को बढ़ावा मिल सकता है, जिससे शरीर को संक्रमण और बीमारियों से लड़ने में मदद मिलती है।\n"
     ]
    }
   ],
   "source": [
    "message_text = [{\"role\" : \"system\", \"content\" : \"You are a helpful AI assistant that helps people find information. Always reply in English irrespective of the user language and reply in 5 bullet points\"}, {\"role\" : \"user\", \"content\" : \"रोजाना एक्सरसाइज करने के क्या फायदे हैं\"}]\n",
    "\n",
    "start = time.time()\n",
    "completion = client.chat.completions.create(\n",
    "  model=\"gpt-4\", # model = \"deployment_name\"\n",
    "  messages = message_text,\n",
    "  temperature=0,\n",
    "  max_tokens=3000,\n",
    "  top_p=0.1,\n",
    "  frequency_penalty=0,\n",
    "  presence_penalty=0,\n",
    "  stop=None\n",
    ")\n",
    "\n",
    "## Detect the target language\n",
    "try:\n",
    "    documents = [message_text[-1][\"content\"]]\n",
    "    response = text_analytics_client.detect_language(documents = documents)[0]\n",
    "    target_language = response.primary_language.iso6391_name\n",
    "\n",
    "except Exception as err:\n",
    "    print(\"Encountered exception. {}\".format(err))\n",
    "\n",
    "try:\n",
    "\n",
    "    source_language = \"en\"\n",
    "    target_languages = [target_language]\n",
    "    input_text_elements = [InputTextItem(text = completion.choices[0].message.content)]\n",
    "\n",
    "    response = text_translator.translate(content = input_text_elements, to = target_languages, from_parameter = source_language)\n",
    "    translation = response[0]['translations'][0]['text'] if response else None\n",
    "\n",
    "\n",
    "except HttpResponseError as exception:\n",
    "    print(f\"Error Code: {exception.error.code}\")\n",
    "    print(f\"Message: {exception.error.message}\")\n",
    "\n",
    "end = time.time()\n",
    "\n",
    "total_time = end - start\n",
    "print(\"Total time taken : \", total_time)\n",
    "print(translation)\n"
   ]
  }
 ],
 "metadata": {
  "kernelspec": {
   "display_name": "Python 3",
   "language": "python",
   "name": "python3"
  },
  "language_info": {
   "codemirror_mode": {
    "name": "ipython",
    "version": 3
   },
   "file_extension": ".py",
   "mimetype": "text/x-python",
   "name": "python",
   "nbconvert_exporter": "python",
   "pygments_lexer": "ipython3",
   "version": "3.11.9"
  }
 },
 "nbformat": 4,
 "nbformat_minor": 2
}
