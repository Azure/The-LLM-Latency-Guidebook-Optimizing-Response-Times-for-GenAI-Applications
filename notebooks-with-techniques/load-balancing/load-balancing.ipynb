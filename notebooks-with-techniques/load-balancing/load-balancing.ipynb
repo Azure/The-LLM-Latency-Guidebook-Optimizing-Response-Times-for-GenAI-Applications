{
 "cells": [
  {
   "cell_type": "markdown",
   "id": "906bd52e-f200-4e41-b98b-92ecacb686b4",
   "metadata": {},
   "source": [
    "# Load Balancing - A strategy to reduce latency in spiky workloads\n",
    "\n",
    "Whilst this technique may not be strictly related to LLMs, and essentially boils down to \"have sufficient compute/quota\", in practice, this technique is commonly required to avoid latency issues. When a resource becomes overloaded, retrys begin to bank up, leading to longer response times. By redirecting traffic to another resource, the overall latency is greatly improved. This is commonly seen when the primary resource is a Provisioned Throughput Unit (PTU), which you wish to fully utilize before redirected overflow traffic to a Pay as you Go deployment.\n",
    "\n",
    "- To run this notebook create two deployments - one Primary and other secondary\n",
    "- Typically primary will be a PTU and secondary will be a PayGO\n",
    "- load will be directed to secondary in case of spikes, say when a sale is launched by an e-Comm company\n",
    "- In this sample primary is PayGO with a capacity of 2,000 TPM, secondary is PayGO with a capacity of 4,000 TPM\n",
    "- Typically, the primary deployment would be a Provisioned Throughput Unit (PTU), which has better latency performance, and should be utilized fully before switching to PayGo, hoever for this notebook PayGo has been used for both."
   ]
  },
  {
   "cell_type": "code",
   "execution_count": 1,
   "id": "ea9e49f4-05e7-4084-a8e7-a53490508196",
   "metadata": {},
   "outputs": [],
   "source": [
    "import os\n",
    "from dotenv import load_dotenv\n",
    "import openai\n",
    "from concurrent.futures import ThreadPoolExecutor\n",
    "import numpy as np\n",
    "import requests\n",
    "import json\n",
    "import time\n",
    "import matplotlib.pyplot as plt\n",
    "import pandas as pd\n",
    "\n",
    "load_dotenv(override=True)\n",
    "\n",
    "open_ai_endpoint1 = os.getenv(\"OPEN_AI_ENDPOINT1_2000_TPM\")\n",
    "open_ai_key1 = os.getenv(\"OPEN_AI_KEY1_2000_TPM\")\n",
    "open_ai_deployment_name1 = os.getenv(\"OPEN_AI_DEPLOYMENT_NAME1_2000_TPM\")\n",
    "open_ai_endpoint2 = os.getenv(\"OPEN_AI_ENDPOINT2_4000_TPM\")\n",
    "open_ai_key2 = os.getenv(\"OPEN_AI_KEY2_4000_TPM\")\n",
    "open_ai_deployment_name2 = os.getenv(\"OPEN_AI_DEPLOYMENT_NAME2_4000_TPM\")\n",
    "\n",
    "api_version = os.getenv(\"API_VERSION\")"
   ]
  },
  {
   "cell_type": "markdown",
   "id": "68b11077-05d9-4bfa-be44-fe0270f154ea",
   "metadata": {},
   "source": [
    "# Set up the code"
   ]
  },
  {
   "cell_type": "code",
   "execution_count": 2,
   "id": "037d6364-ca8a-441b-adad-4a9769a6e02d",
   "metadata": {
    "scrolled": true
   },
   "outputs": [],
   "source": [
    "def get_header(open_ai_key):\n",
    "    \n",
    "    headers = {\n",
    "        \"Content-Type\": \"application/json\",\n",
    "        \"api-key\": open_ai_key,\n",
    "        \"x-ms-useragent\": \"Azure-GPT-4V-image/1.0.0\"\n",
    "    }\n",
    "    return headers\n",
    "\n",
    "def get_msg(system_msg, user_query):\n",
    "    system_msg = {\n",
    "      \"role\": \"system\",\n",
    "      \"content\": system_msg\n",
    "    }\n",
    "    user_msg = {\n",
    "      \"role\": \"user\",\n",
    "      \"content\": user_query\n",
    "    }\n",
    "    return [system_msg, user_msg] \n",
    "\n",
    "def get_payload(max_tokens, system_msg, user_query):\n",
    "    payload = {\n",
    "        \"temperature\": 0.5,\n",
    "        \"top_p\": 0.95,\n",
    "        \"max_tokens\": max_tokens\n",
    "    }\n",
    "    payload[\"messages\"] = get_msg(system_msg, user_query)\n",
    "    return payload\n",
    "    \n",
    "\n",
    "\n",
    "def get_response(config, system_msg, user_query):\n",
    "    open_ai_endpoint = config[\"OPEN_AI_ENDPOINT\"]\n",
    "    \n",
    "    open_ai_key = config[\"OPEN_AI_KEY\"]\n",
    "    headers = get_header(open_ai_key)\n",
    "\n",
    "    max_tokens = config[\"max_tokens\"]\n",
    "    payload = get_payload(max_tokens, system_msg, user_query)\n",
    "\n",
    "    try:\n",
    "        response = requests.post(open_ai_endpoint, headers=headers, json=payload)\n",
    "        response_headers = response.headers\n",
    "        response.raise_for_status()  \n",
    "        json_response = response.json()\n",
    "        response_message = json_response[\"choices\"][0][\"message\"][\"content\"]\n",
    "        return 1, response_message, response_headers, 0\n",
    "    except requests.RequestException as e:\n",
    "        retry_after = None\n",
    "        if 'Retry-After' in response_headers:\n",
    "            retry_after = response_headers[\"Retry-After\"]\n",
    "             \n",
    "        return 0, e, response_headers, retry_after"
   ]
  },
  {
   "cell_type": "code",
   "execution_count": 3,
   "id": "72ff9889-e937-44d8-8e97-10415d227837",
   "metadata": {},
   "outputs": [],
   "source": [
    "def get_proc_stat(config):\n",
    "    global proc_stat1\n",
    "    global proc_stat2 \n",
    "    proc_stat = proc_stat1 if config[\"proc_stat\"] == 1 else proc_stat2\n",
    "    return proc_stat\n",
    "    \n",
    "def log_start(config):\n",
    "    global proc_stat1\n",
    "    global proc_stat2 \n",
    "    proc_stat = get_proc_stat(config)\n",
    "    \n",
    "    proc_stat[\"cur_concur_request\"] = proc_stat[\"cur_concur_request\"] + 1\n",
    "    \n",
    "    \n",
    "def log_end(config, status):\n",
    "    global proc_stat1\n",
    "    global proc_stat2 \n",
    "    try:\n",
    "        proc_stat = get_proc_stat(config)\n",
    "        \n",
    "        if status == 0:\n",
    "            if config[\"benchmarking\"] == 1:\n",
    "                proc_stat[\"error_threshold\"].append(proc_stat[\"cur_concur_request\"])\n",
    "                print(f\"Logging Error Details:{proc_stat}\")\n",
    "        else:\n",
    "            proc_stat[\"success_request\"] = proc_stat[\"success_request\"] + 1\n",
    "            if config[\"benchmarking\"] == 1:\n",
    "                print(f\"Logging Success Details:{proc_stat}\")\n",
    "        proc_stat[\"cur_concur_request\"] =  proc_stat[\"cur_concur_request\"] - 1\n",
    "        \n",
    "    except Exception as e:\n",
    "        print(e)    "
   ]
  },
  {
   "cell_type": "code",
   "execution_count": 4,
   "id": "073d28d1-97e5-4473-bce6-40fbe61c8a98",
   "metadata": {},
   "outputs": [],
   "source": [
    "def load_balance(config):\n",
    "    #print(config)\n",
    "    if config[\"OPEN_AI_ENDPOINT\"] == open_ai_endpoint2:\n",
    "        return False # We dont want to reshift load to Primary deployment\n",
    "    cur_proc_on_secondary = proc_stat2[\"cur_concur_request\"]\n",
    "    error_threshold = min(proc_stat2[\"error_threshold\"]) \n",
    "    if cur_proc_on_secondary < error_threshold:\n",
    "        config[\"OPEN_AI_ENDPOINT\"] = open_ai_endpoint2\n",
    "        config[\"OPEN_AI_KEY\"] = open_ai_key2\n",
    "        config[\"proc_stat\"] = 2\n",
    "        return True\n",
    "    else:\n",
    "        return False\n",
    "        \n",
    "def get_response_till_success(config_orig, system_msg, user_query):\n",
    "    config = config_orig.copy()\n",
    "    max_retry_count = 5\n",
    "    retry_count = 0\n",
    "    status = 0\n",
    "    def_retry_after = 5\n",
    "    while status == 0 and retry_count < max_retry_count:\n",
    "        log_start(config)\n",
    "        status, response_msg, response_headers, retry_after = get_response(config, system_msg, user_query)\n",
    "        log_end(config, status)\n",
    "        if status == 1:\n",
    "            return status, response_msg\n",
    "        elif retry_count == max_retry_count - 1:\n",
    "            return status, response_msg\n",
    "        else:\n",
    "            retry_count = retry_count + 1\n",
    "            \n",
    "            bln_load_balance = False\n",
    "            if config[\"load_balance\"] == 1:\n",
    "                bln_load_balance = load_balance(config)\n",
    "            if bln_load_balance == True:\n",
    "                print(\"Load balanced!\")\n",
    "                continue\n",
    "                \n",
    "            if retry_after:\n",
    "                time.sleep(int(retry_after))\n",
    "            else:\n",
    "                time.sleep(def_retry_after)\n",
    "                def_retry_after = def_retry_after - 1\n",
    "\n",
    "            "
   ]
  },
  {
   "cell_type": "code",
   "execution_count": 5,
   "id": "0d3610eb-d1b7-4c51-9a57-9b94c56918a1",
   "metadata": {},
   "outputs": [],
   "source": [
    "def exec_load(func, config, system_msg, user_query, max_workers, num_requests):\n",
    "    time.sleep(30) #Sleeping to allow the system to recover\n",
    "    start_time = time.time()\n",
    "    num_request = num_requests\n",
    "    config_list = [config] * num_request\n",
    "    system_msg_list = [system_msg] * num_request\n",
    "    user_query_list = [user_query] * num_request\n",
    "    with ThreadPoolExecutor(max_workers=max_workers) as executor:\n",
    "        results_apim = executor.map(func, config_list, system_msg_list, user_query_list)\n",
    "    end_time = time.time()\n",
    "    tot_time = end_time - start_time\n",
    "    print(f\"Time taken:{tot_time}\")\n",
    "    return tot_time\n",
    "    #for res in (results_apim):\n",
    "    #    print(res)"
   ]
  },
  {
   "cell_type": "code",
   "execution_count": 6,
   "id": "26c0707f-6556-4179-9114-6cc24bc3d58d",
   "metadata": {},
   "outputs": [],
   "source": [
    "system_msg = \"You answer users queries around artificial intelligence in approximately 70 words!\"\n",
    "user_query = \"What are some use cases of GenAI in BFSI?\""
   ]
  },
  {
   "cell_type": "markdown",
   "id": "ac53659f-4e0b-45a1-8121-e5885b799ea7",
   "metadata": {},
   "source": [
    "### Benchmark \n",
    "We are trying to find the threshold for secondary, that is how many concurrent requests it can handle.\n",
    "No point overloading secondary as well!"
   ]
  },
  {
   "cell_type": "code",
   "execution_count": 7,
   "id": "72fc22f5-af45-4ece-928f-a7d9215d9dda",
   "metadata": {},
   "outputs": [
    {
     "name": "stdout",
     "output_type": "stream",
     "text": [
      "Logging Error Details:{'cur_concur_request': 10, 'success_request': 0, 'error_threshold': [10]}\n",
      "Logging Error Details:{'cur_concur_request': 9, 'success_request': 0, 'error_threshold': [10, 9]}\n",
      "Logging Error Details:{'cur_concur_request': 8, 'success_request': 0, 'error_threshold': [10, 9, 8]}\n",
      "Logging Error Details:{'cur_concur_request': 7, 'success_request': 0, 'error_threshold': [10, 9, 8, 7]}\n",
      "Logging Success Details:{'cur_concur_request': 6, 'success_request': 1, 'error_threshold': [10, 9, 8, 7]}\n",
      "Logging Success Details:{'cur_concur_request': 10, 'success_request': 2, 'error_threshold': [10, 9, 8, 7]}\n",
      "Logging Success Details:{'cur_concur_request': 10, 'success_request': 3, 'error_threshold': [10, 9, 8, 7]}\n",
      "Logging Error Details:{'cur_concur_request': 10, 'success_request': 3, 'error_threshold': [10, 9, 8, 7, 10]}\n",
      "Logging Error Details:{'cur_concur_request': 9, 'success_request': 3, 'error_threshold': [10, 9, 8, 7, 10, 9]}\n",
      "Logging Success Details:{'cur_concur_request': 8, 'success_request': 4, 'error_threshold': [10, 9, 8, 7, 10, 9]}\n",
      "Logging Success Details:{'cur_concur_request': 8, 'success_request': 5, 'error_threshold': [10, 9, 8, 7, 10, 9]}\n",
      "Logging Error Details:{'cur_concur_request': 8, 'success_request': 5, 'error_threshold': [10, 9, 8, 7, 10, 9, 8]}\n",
      "Logging Error Details:{'cur_concur_request': 7, 'success_request': 5, 'error_threshold': [10, 9, 8, 7, 10, 9, 8, 7]}\n",
      "Logging Success Details:{'cur_concur_request': 6, 'success_request': 6, 'error_threshold': [10, 9, 8, 7, 10, 9, 8, 7]}\n",
      "Logging Error Details:{'cur_concur_request': 6, 'success_request': 6, 'error_threshold': [10, 9, 8, 7, 10, 9, 8, 7, 6]}\n",
      "Logging Success Details:{'cur_concur_request': 10, 'success_request': 7, 'error_threshold': [10, 9, 8, 7, 10, 9, 8, 7, 6]}\n",
      "Logging Success Details:{'cur_concur_request': 10, 'success_request': 8, 'error_threshold': [10, 9, 8, 7, 10, 9, 8, 7, 6]}\n",
      "Logging Success Details:{'cur_concur_request': 10, 'success_request': 9, 'error_threshold': [10, 9, 8, 7, 10, 9, 8, 7, 6]}\n",
      "Logging Error Details:{'cur_concur_request': 10, 'success_request': 9, 'error_threshold': [10, 9, 8, 7, 10, 9, 8, 7, 6, 10]}\n",
      "Logging Error Details:{'cur_concur_request': 9, 'success_request': 9, 'error_threshold': [10, 9, 8, 7, 10, 9, 8, 7, 6, 10, 9]}\n",
      "Logging Error Details:{'cur_concur_request': 8, 'success_request': 9, 'error_threshold': [10, 9, 8, 7, 10, 9, 8, 7, 6, 10, 9, 8]}\n",
      "Logging Error Details:{'cur_concur_request': 7, 'success_request': 9, 'error_threshold': [10, 9, 8, 7, 10, 9, 8, 7, 6, 10, 9, 8, 7]}\n",
      "Logging Success Details:{'cur_concur_request': 6, 'success_request': 10, 'error_threshold': [10, 9, 8, 7, 10, 9, 8, 7, 6, 10, 9, 8, 7]}\n",
      "Logging Error Details:{'cur_concur_request': 6, 'success_request': 10, 'error_threshold': [10, 9, 8, 7, 10, 9, 8, 7, 6, 10, 9, 8, 7, 6]}\n",
      "Logging Success Details:{'cur_concur_request': 5, 'success_request': 11, 'error_threshold': [10, 9, 8, 7, 10, 9, 8, 7, 6, 10, 9, 8, 7, 6]}\n",
      "Logging Success Details:{'cur_concur_request': 4, 'success_request': 12, 'error_threshold': [10, 9, 8, 7, 10, 9, 8, 7, 6, 10, 9, 8, 7, 6]}\n",
      "Logging Success Details:{'cur_concur_request': 3, 'success_request': 13, 'error_threshold': [10, 9, 8, 7, 10, 9, 8, 7, 6, 10, 9, 8, 7, 6]}\n",
      "Logging Success Details:{'cur_concur_request': 2, 'success_request': 14, 'error_threshold': [10, 9, 8, 7, 10, 9, 8, 7, 6, 10, 9, 8, 7, 6]}\n",
      "Logging Success Details:{'cur_concur_request': 6, 'success_request': 15, 'error_threshold': [10, 9, 8, 7, 10, 9, 8, 7, 6, 10, 9, 8, 7, 6]}\n",
      "Logging Success Details:{'cur_concur_request': 5, 'success_request': 16, 'error_threshold': [10, 9, 8, 7, 10, 9, 8, 7, 6, 10, 9, 8, 7, 6]}\n",
      "Logging Success Details:{'cur_concur_request': 4, 'success_request': 17, 'error_threshold': [10, 9, 8, 7, 10, 9, 8, 7, 6, 10, 9, 8, 7, 6]}\n",
      "Logging Success Details:{'cur_concur_request': 3, 'success_request': 18, 'error_threshold': [10, 9, 8, 7, 10, 9, 8, 7, 6, 10, 9, 8, 7, 6]}\n",
      "Logging Success Details:{'cur_concur_request': 2, 'success_request': 19, 'error_threshold': [10, 9, 8, 7, 10, 9, 8, 7, 6, 10, 9, 8, 7, 6]}\n",
      "Logging Success Details:{'cur_concur_request': 1, 'success_request': 20, 'error_threshold': [10, 9, 8, 7, 10, 9, 8, 7, 6, 10, 9, 8, 7, 6]}\n",
      "Time taken:49.82989287376404\n"
     ]
    },
    {
     "data": {
      "text/plain": [
       "49.82989287376404"
      ]
     },
     "execution_count": 7,
     "metadata": {},
     "output_type": "execute_result"
    }
   ],
   "source": [
    "proc_stat2 = {}\n",
    "proc_stat2[\"cur_concur_request\"] = 0\n",
    "proc_stat2[\"success_request\"] = 0\n",
    "proc_stat2[\"error_threshold\"] = []\n",
    "\n",
    "config = {}\n",
    "config[\"OPEN_AI_ENDPOINT\"] = open_ai_endpoint2\n",
    "config[\"OPEN_AI_KEY\"] = open_ai_key2\n",
    "config[\"max_tokens\"] = 100\n",
    "config[\"load_balance\"] = 0\n",
    "config[\"proc_stat\"] = 2\n",
    "config[\"benchmarking\"] = 1\n",
    "\n",
    "func = get_response_till_success\n",
    "exec_load(func, config, system_msg, user_query,10,20)\n"
   ]
  },
  {
   "cell_type": "markdown",
   "id": "9d719788-ecc0-47ba-a418-3bb349793b9b",
   "metadata": {},
   "source": [
    "### A: Base case (without load balancing)\n",
    "\n",
    "**Time taken: 58 seconds**\n",
    "\n",
    "When the API endpoint begins throttling, the retry attempts begin to bank up, leading to a longer latency for requests while they wait for capacity."
   ]
  },
  {
   "cell_type": "code",
   "execution_count": 8,
   "id": "f519416d-6ccc-4beb-b6c2-ceb215d2b51b",
   "metadata": {},
   "outputs": [
    {
     "name": "stdout",
     "output_type": "stream",
     "text": [
      "Time taken:58.47171068191528\n"
     ]
    }
   ],
   "source": [
    "proc_stat1 = {}\n",
    "proc_stat1[\"cur_concur_request\"] = 0\n",
    "proc_stat1[\"success_request\"] = 0\n",
    "proc_stat1[\"error_threshold\"] = []\n",
    "\n",
    "config = {}\n",
    "config[\"OPEN_AI_ENDPOINT\"] = open_ai_endpoint1\n",
    "config[\"OPEN_AI_KEY\"] = open_ai_key1\n",
    "config[\"max_tokens\"] = 100\n",
    "config[\"load_balance\"] = 0\n",
    "config[\"proc_stat\"] = 1\n",
    "config[\"benchmarking\"] = 0\n",
    "\n",
    "func = get_response_till_success\n",
    "time1 = exec_load(func, config, system_msg, user_query, 5, 10) #5-> Concurrent requests, 10-> Total Requests"
   ]
  },
  {
   "cell_type": "markdown",
   "id": "94aac546-64ac-4c50-930b-c3134d319e91",
   "metadata": {},
   "source": [
    "### B: With load balancing\n",
    "\n",
    "**Time taken: 31 seconds**\n",
    "\n",
    "With load balancing, requests that receive a 429 error are instead redirected to additional capacity and processed more quickly. For example, if the first resource is a low latency Provisioned Throughput Unit (PTU) resource, even if the secondary resource is a less optimized resource (such as a Pay as you Go endpoint), the response time will be better than retrying against an overloaded resource."
   ]
  },
  {
   "cell_type": "code",
   "execution_count": 9,
   "id": "d3e8aace-5d21-45d1-989b-a991dcffd100",
   "metadata": {},
   "outputs": [
    {
     "name": "stdout",
     "output_type": "stream",
     "text": [
      "Load balanced!\n",
      "Load balanced!\n",
      "Load balanced!\n",
      "Load balanced!\n",
      "Time taken:31.029748916625977\n",
      "6\n",
      "4\n"
     ]
    }
   ],
   "source": [
    "proc_stat1[\"cur_concur_request\"] = 0\n",
    "proc_stat2[\"cur_concur_request\"] = 0\n",
    "proc_stat1[\"success_request\"] = 0\n",
    "proc_stat2[\"success_request\"] = 0\n",
    "config = {}\n",
    "config[\"OPEN_AI_ENDPOINT\"] = open_ai_endpoint1\n",
    "config[\"OPEN_AI_KEY\"] = open_ai_key1\n",
    "config[\"max_tokens\"] = 100\n",
    "config[\"proc_stat\"] = 1\n",
    "config[\"load_balance\"] = 1\n",
    "config[\"benchmarking\"] = 0\n",
    "\n",
    "func = get_response_till_success\n",
    "time2 = exec_load(func, config, system_msg, user_query,5, 10)\n",
    "print(proc_stat1[\"success_request\"]) # No. requests executed by Primary\n",
    "print(proc_stat2[\"success_request\"]) # No. requsts executed by Secondary"
   ]
  },
  {
   "cell_type": "code",
   "execution_count": null,
   "id": "979553fe-d729-480a-852b-72c8f11cd117",
   "metadata": {},
   "outputs": [
    {
     "data": {
      "image/png": "[encoded data removed]",
      "text/plain": [
       "<Figure size 640x480 with 1 Axes>"
      ]
     },
     "metadata": {},
     "output_type": "display_data"
    }
   ],
   "source": [
    "data = pd.DataFrame({\n",
    "    \"load_type\": [\"Unoptimized\", \"Optimized\"],\n",
    "    \"time_taken\": [58, 31]\n",
    "})\n",
    "\n",
    "plt.bar(data['load_type'], data['time_taken'])\n",
    "plt.xlabel('Load Type')\n",
    "plt.ylabel('Time Taken')\n",
    "plt.title('Latency improvement')\n",
    "plt.show()"
   ]
  }
 ],
 "metadata": {
  "kernelspec": {
   "display_name": "Python 3 (ipykernel)",
   "language": "python",
   "name": "python3"
  },
  "language_info": {
   "codemirror_mode": {
    "name": "ipython",
    "version": 3
   },
   "file_extension": ".py",
   "mimetype": "text/x-python",
   "name": "python",
   "nbconvert_exporter": "python",
   "pygments_lexer": "ipython3",
   "version": "3.9.16"
  }
 },
 "nbformat": 4,
 "nbformat_minor": 5
}
