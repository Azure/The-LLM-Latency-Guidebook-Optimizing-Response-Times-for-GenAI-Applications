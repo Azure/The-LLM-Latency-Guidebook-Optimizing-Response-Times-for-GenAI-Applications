{
 "cells": [
  {
   "cell_type": "markdown",
   "metadata": {},
   "source": [
    "# Semantic Caching\n",
    "\n",
    "for example if a customer is asking \"what is my bank balance?\", this is not a query that you would want cached. Similarly, \n",
    "\n",
    "This example requires a Redis Cache to be set up. This can be done using Azure Cache for Redis, with instructions in the link below. Alternatively, you can simply read through the notebook and observe the speed up that was achieved.\n",
    "\n",
    "https://learn.microsoft.com/en-us/azure/azure-cache-for-redis/cache-tutorial-semantic-cache\n",
    "\n",
    "LangChain provides a simple interface for managing caching:\n",
    "\n",
    "https://python.langchain.com/docs/integrations/llms/llm_caching"
   ]
  },
  {
   "cell_type": "markdown",
   "metadata": {},
   "source": [
    "# Use Case: Answering common questions"
   ]
  },
  {
   "cell_type": "code",
   "execution_count": 1,
   "metadata": {},
   "outputs": [],
   "source": [
    "import openai\n",
    "import redis\n",
    "import os\n",
    "import langchain\n",
    "from langchain.llms import AzureOpenAI\n",
    "from langchain.embeddings import AzureOpenAIEmbeddings\n",
    "from langchain.globals import set_llm_cache\n",
    "from langchain.cache import RedisSemanticCache\n",
    "import time\n",
    "from dotenv import load_dotenv\n",
    "import os\n",
    "from langchain.globals import set_llm_cache\n",
    "from langchain_openai import AzureChatOpenAI\n",
    "\n",
    "\n",
    "# Load environment variables\n",
    "load_dotenv()\n",
    "\n",
    "AZURE_ENDPOINT=os.getenv(\"AZURE_ENDPOINT\")\n",
    "API_KEY=os.getenv(\"API_KEY\")\n",
    "API_VERSION=os.getenv(\"API_VERSION\")\n",
    "LLM_DEPLOYMENT_NAME=os.getenv(\"MODELGPT432k\")\n",
    "LLM_MODEL_NAME=os.getenv(\"MODELGPT432k\")\n",
    "EMBEDDINGS_DEPLOYMENT_NAME=os.getenv(\"EMBEDDING\")\n",
    "EMBEDDINGS_MODEL_NAME=os.getenv(\"EMBEDDING\")\n",
    "REDIS_ENDPOINT=os.getenv(\"REDIS_ENDPOINT\")\n",
    "REDIS_PASSWORD=os.getenv(\"REDIS_PASSWORD\")\n",
    "os.environ[\"OPENAI_API_VERSION\"] = API_VERSION\n",
    "os.environ[\"AZURE_OPENAI_ENDPOINT\"] = AZURE_ENDPOINT\n",
    "os.environ[\"AZURE_OPENAI_API_KEY\"] = API_KEY"
   ]
  },
  {
   "cell_type": "code",
   "execution_count": 2,
   "metadata": {},
   "outputs": [],
   "source": [
    "llm = AzureChatOpenAI(\n",
    "    deployment_name=LLM_MODEL_NAME,\n",
    ")\n",
    "from langchain_openai import AzureOpenAIEmbeddings\n",
    "embeddings = AzureOpenAIEmbeddings(\n",
    "    model=EMBEDDINGS_MODEL_NAME,\n",
    ")"
   ]
  },
  {
   "cell_type": "code",
   "execution_count": 4,
   "metadata": {},
   "outputs": [],
   "source": [
    "redis_url = \"rediss://:\" + REDIS_PASSWORD + \"@\"+ REDIS_ENDPOINT\n",
    "set_llm_cache(RedisSemanticCache(redis_url = redis_url, embedding=embeddings, score_threshold=0.01))"
   ]
  },
  {
   "cell_type": "markdown",
   "metadata": {},
   "source": [
    "### A: Base Case\n",
    "\n",
    "**Time taken: 18 seconds**\n",
    "\n",
    "A standard LLM call is made."
   ]
  },
  {
   "cell_type": "code",
   "execution_count": null,
   "metadata": {},
   "outputs": [
    {
     "data": {
      "text/plain": [
       "AIMessage(content='You can sign up for Azure by following these steps:\\n\\n1. Go to the Azure website (azure.microsoft.com)\\n2. Click on the \"Start free\" button on the home page.\\n3. You will be redirected to the sign-up page, where you\\'ll need to provide your Microsoft account credentials. If you do not have a Microsoft account, you can create one by clicking on \"Create one!\".\\n4. After you log in or create a new account, you\\'ll need to verify your identity through a phone number and provide some information about yourself.\\n5. You will also need a valid credit card for verification. Microsoft states that you will not be charged unless you decide to upgrade.\\n6. After you\\'ve filled in all of the required information, click on the \"Sign Up\" button.\\n7. You have now signed up for Azure. You can go to the dashboard and start using the services. \\n\\nRemember, you get $200 credit for the first 30 days and a limited number of free services for a year.', response_metadata={'token_usage': {'completion_tokens': 208, 'prompt_tokens': 15, 'total_tokens': 223}, 'model_name': 'gpt-4-32k', 'system_fingerprint': None, 'finish_reason': 'stop', 'logprobs': None, 'content_filter_results': {}}, id='run-43daa71f-9d5d-4095-8de2-1f847f55db98-0')"
      ]
     },
     "metadata": {},
     "output_type": "display_data"
    }
   ],
   "source": [
    "llm.invoke(\"How can I sign up for Microsoft Teams?\")"
   ]
  },
  {
   "cell_type": "markdown",
   "metadata": {},
   "source": [
    "### B: Leveraging Semantic Caching\n",
    "\n",
    "**Time taken: 18 seconds**\n",
    "\n",
    "The first time the question is asked, it takes the standard amount of time. However, subsequent calls that have a sufficient semantic similarity will leverage the cached response, saving significant amounts of time."
   ]
  },
  {
   "cell_type": "markdown",
   "metadata": {},
   "source": [
    "#### First request (not cached)\n",
    "\n",
    "With GPT 4 32k, this may take ~18 seconds, as it is actually calling Azure OpenAI."
   ]
  },
  {
   "cell_type": "code",
   "execution_count": 6,
   "metadata": {},
   "outputs": [
    {
     "data": {
      "text/plain": [
       "AIMessage(content='You can sign up for Azure by following these steps:\\n\\n1. Go to the Azure website (azure.microsoft.com)\\n2. Click on the \"Start free\" button on the home page.\\n3. You will be redirected to the sign-up page, where you\\'ll need to provide your Microsoft account credentials. If you do not have a Microsoft account, you can create one by clicking on \"Create one!\".\\n4. After you log in or create a new account, you\\'ll need to verify your identity through a phone number and provide some information about yourself.\\n5. You will also need a valid credit card for verification. Microsoft states that you will not be charged unless you decide to upgrade.\\n6. After you\\'ve filled in all of the required information, click on the \"Sign Up\" button.\\n7. You have now signed up for Azure. You can go to the dashboard and start using the services. \\n\\nRemember, you get $200 credit for the first 30 days and a limited number of free services for a year.', response_metadata={'token_usage': {'completion_tokens': 208, 'prompt_tokens': 15, 'total_tokens': 223}, 'model_name': 'gpt-4-32k', 'system_fingerprint': None, 'finish_reason': 'stop', 'logprobs': None, 'content_filter_results': {}}, id='run-43daa71f-9d5d-4095-8de2-1f847f55db98-0')"
      ]
     },
     "execution_count": 6,
     "metadata": {},
     "output_type": "execute_result"
    }
   ],
   "source": [
    "llm.invoke(\"How can I sign up for Azure?\")"
   ]
  },
  {
   "cell_type": "markdown",
   "metadata": {},
   "source": [
    "#### Second request, exact match (cached)\n",
    "\n",
    "As the second request is cached, it returns in only ~1-2 seconds. This was the same question, where every character was an exact match."
   ]
  },
  {
   "cell_type": "code",
   "execution_count": 7,
   "metadata": {},
   "outputs": [
    {
     "data": {
      "text/plain": [
       "AIMessage(content='You can sign up for Azure by following these steps:\\n\\n1. Go to the Azure website (azure.microsoft.com)\\n2. Click on the \"Start free\" button on the home page.\\n3. You will be redirected to the sign-up page, where you\\'ll need to provide your Microsoft account credentials. If you do not have a Microsoft account, you can create one by clicking on \"Create one!\".\\n4. After you log in or create a new account, you\\'ll need to verify your identity through a phone number and provide some information about yourself.\\n5. You will also need a valid credit card for verification. Microsoft states that you will not be charged unless you decide to upgrade.\\n6. After you\\'ve filled in all of the required information, click on the \"Sign Up\" button.\\n7. You have now signed up for Azure. You can go to the dashboard and start using the services. \\n\\nRemember, you get $200 credit for the first 30 days and a limited number of free services for a year.', id='run-43daa71f-9d5d-4095-8de2-1f847f55db98-0')"
      ]
     },
     "execution_count": 7,
     "metadata": {},
     "output_type": "execute_result"
    }
   ],
   "source": [
    "llm.invoke(\"How can I sign up for Azure?\")"
   ]
  },
  {
   "cell_type": "markdown",
   "metadata": {},
   "source": [
    "#### Third request, semantically similar match (cached)\n",
    "\n",
    "Cached responses do not have to be the exact same input string- semantically similar questions will also match, saving cost and speed."
   ]
  },
  {
   "cell_type": "code",
   "execution_count": 9,
   "metadata": {},
   "outputs": [
    {
     "data": {
      "text/plain": [
       "AIMessage(content='You can sign up for Azure by following these steps:\\n\\n1. Go to the Azure website (azure.microsoft.com)\\n2. Click on the \"Start free\" button on the home page.\\n3. You will be redirected to the sign-up page, where you\\'ll need to provide your Microsoft account credentials. If you do not have a Microsoft account, you can create one by clicking on \"Create one!\".\\n4. After you log in or create a new account, you\\'ll need to verify your identity through a phone number and provide some information about yourself.\\n5. You will also need a valid credit card for verification. Microsoft states that you will not be charged unless you decide to upgrade.\\n6. After you\\'ve filled in all of the required information, click on the \"Sign Up\" button.\\n7. You have now signed up for Azure. You can go to the dashboard and start using the services. \\n\\nRemember, you get $200 credit for the first 30 days and a limited number of free services for a year.', id='run-43daa71f-9d5d-4095-8de2-1f847f55db98-0')"
      ]
     },
     "execution_count": 9,
     "metadata": {},
     "output_type": "execute_result"
    }
   ],
   "source": [
    "llm.invoke(\"I want to sign up for Azure\")"
   ]
  }
 ],
 "metadata": {
  "kernelspec": {
   "display_name": ".venv",
   "language": "python",
   "name": "python3"
  },
  "language_info": {
   "codemirror_mode": {
    "name": "ipython",
    "version": 3
   },
   "file_extension": ".py",
   "mimetype": "text/x-python",
   "name": "python",
   "nbconvert_exporter": "python",
   "pygments_lexer": "ipython3",
   "version": "3.11.9"
  }
 },
 "nbformat": 4,
 "nbformat_minor": 2
}
