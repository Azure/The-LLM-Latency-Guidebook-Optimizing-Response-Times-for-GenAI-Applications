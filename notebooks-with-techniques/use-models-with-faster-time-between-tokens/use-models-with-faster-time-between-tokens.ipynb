{
 "cells": [
  {
   "cell_type": "markdown",
   "metadata": {},
   "source": [
    "# Use models with faster time between tokens\n",
    "\n",
    "Whilst common knowledge for most GenAI practitioners, different models may have significantly time-between-token speeds. That is, the time taken to generate each token, which is essentially the speed at which the model can generate the output. For example, GPT-4 is considerably slower than GPT-3.5, but has significantly more powerful reasoning capabilities.\n",
    "\n",
    "The appropriate model should be chosen for the use case and the level of reasoning required (or other requirements), in order to best optimise the latency of the application."
   ]
  },
  {
   "cell_type": "markdown",
   "metadata": {},
   "source": [
    "#### Load Helper Functions and Import Libraries"
   ]
  },
  {
   "cell_type": "code",
   "execution_count": 2,
   "metadata": {},
   "outputs": [],
   "source": [
    "import datetime\n",
    "import json\n",
    "import time\n",
    "import os\n",
    "import datetime\n",
    "import json\n",
    "import time\n",
    "from openai import AzureOpenAI\n",
    "from dotenv import load_dotenv\n",
    "import json\n",
    "import copy\n",
    "import textwrap\n",
    "\n",
    "# Load environment variables\n",
    "load_dotenv()\n",
    "\n",
    "def aoai_call(system_message,prompt,model):\n",
    "    client = AzureOpenAI(\n",
    "        api_version=os.getenv(\"API_VERSION\"),\n",
    "        azure_endpoint=os.getenv(\"AZURE_ENDPOINT\"),\n",
    "        api_key=os.getenv(\"API_KEY\")\n",
    "    )\n",
    "\n",
    "    start_time = time.time()\n",
    "\n",
    "    completion = client.chat.completions.create(\n",
    "        model=model,\n",
    "        messages=[\n",
    "            {\"role\": \"system\", \"content\": system_message},\n",
    "            {\"role\": \"user\", \"content\": prompt},\n",
    "        ],\n",
    "    )\n",
    "\n",
    "    end_time = time.time()\n",
    "    e2e_time = end_time - start_time\n",
    "\n",
    "    result=json.loads(completion.model_dump_json(indent=2))\n",
    "    prompt_tokens=result[\"usage\"][\"prompt_tokens\"]\n",
    "    completion_tokens=result[\"usage\"][\"completion_tokens\"]\n",
    "    completion_text=result[\"choices\"][0][\"message\"][\"content\"]\n",
    "\n",
    "    return result,prompt_tokens,completion_tokens,completion_text,e2e_time\n"
   ]
  },
  {
   "cell_type": "markdown",
   "metadata": {},
   "source": [
    "## Use case: Checking for spelling errors and grammar\n",
    "\n",
    "The use case is largely irrelevant to demonstrating the difference in speed between LLM models, however it is important that the smaller parameter model has the ability to actually achieve the use case."
   ]
  },
  {
   "cell_type": "code",
   "execution_count": 5,
   "metadata": {},
   "outputs": [],
   "source": [
    "documents_to_check=\"\"\"\n",
    "\n",
    "1. Pigeons’ Backflips Linked to Genetics Scientists have unraveled the genetic basis behind a fascinating avian behavior: some pigeons perform backward somersaults mid-flight. Dr. Avani Patel, a researcher at the Avian Genetics Institute, identified specific genes associated with this acrobatic feat in parlor roller pigeons. These findings shed light on the evolution of pigeon behavior and could have implications for understanding complex traits in other animals1.\n",
    "\n",
    "2. Desert Ants’ Brain Adaptations to Magnetic Fields Researchers from the Desert Ecology Lab have revealed how magnetic fields shape the brains of desert ants. By studying the neural patterns in these tiny navigators, they discovered that the ants’ brains undergo structural changes in response to Earth’s magnetic field. This adaptation enhances their ability to find their way back to the nest, even in the harsh desert environment. The study provides fresh insights into the remarkable adaptations of these resilient insects1.\n",
    "\n",
    "\"\"\""
   ]
  },
  {
   "cell_type": "markdown",
   "metadata": {},
   "source": [
    "### A: GPT-4 model response time\n",
    "\n",
    "**Time taken: 17 seconds**\n",
    "\n",
    "GPT-4 has a slower generation speed than GPT-3.5. However it has significantly more powerful reasoning capabilities."
   ]
  },
  {
   "cell_type": "code",
   "execution_count": 7,
   "metadata": {},
   "outputs": [
    {
     "name": "stdout",
     "output_type": "stream",
     "text": [
      "Prompt Tokens: 229\n",
      "Completion Tokens: 189\n",
      "Total cost: $0.0364\n",
      "Time taken: 17.29 seconds\n"
     ]
    }
   ],
   "source": [
    "model=os.getenv(\"MODELGPT432k\")\n",
    "\n",
    "system_message=\"\"\"\n",
    "You help spell check documents. Rewrite the entire document word for word, correcting any spelling or grammatical errors.\n",
    "\"\"\"\n",
    "prompt=f\"\"\"\n",
    "Documents to check and rewrite:\n",
    "{documents_to_check}\n",
    "\"\"\"\n",
    "\n",
    "result,prompt_tokens,completion_tokens,completion_text,e2e_time=aoai_call(system_message,prompt,model)\n",
    "print(f\"Prompt Tokens: {prompt_tokens}\")\n",
    "print(f\"Completion Tokens: {completion_tokens}\")\n",
    "print(f\"Time taken: {e2e_time:.2f} seconds\")\n",
    "print(completion_text)\n"
   ]
  },
  {
   "cell_type": "markdown",
   "metadata": {},
   "source": [
    "### B: GPT-3.5 model response time\n",
    "\n",
    "**Time taken: 5 seconds**\n",
    "\n",
    "For simple tasks like checking for spelling errors, the faster GPT-3.5 model has sufficient reasoning capability, and is able to perform the task much more quickly."
   ]
  },
  {
   "cell_type": "code",
   "execution_count": 9,
   "metadata": {},
   "outputs": [
    {
     "name": "stdout",
     "output_type": "stream",
     "text": [
      "Prompt Tokens: 229\n",
      "Completion Tokens: 189\n",
      "Total cost: $0.0364\n",
      "Time taken: 4.68 seconds\n",
      "1. Pigeons' Backflips Linked to Genetics: Scientists have unraveled the genetic basis behind a fascinating avian behavior: some pigeons perform backward somersaults mid-flight. Dr. Avani Patel, a researcher at the Avian Genetics Institute, identified specific genes associated with this acrobatic feat in parlor roller pigeons. These findings shed light on the evolution of pigeon behavior and could have implications for understanding complex traits in other animals.\n",
      "\n",
      "2. Desert Ants' Brain Adaptations to Magnetic Fields: Researchers from the Desert Ecology Lab have revealed how magnetic fields shape the brains of desert ants. By studying the neural patterns in these tiny navigators, they discovered that the ants' brains undergo structural changes in response to the Earth's magnetic field. This adaptation enhances their ability to find their way back to the nest, even in the harsh desert environment. The study provides fresh insights into the remarkable adaptations of these resilient insects.\n"
     ]
    }
   ],
   "source": [
    "model=os.getenv(\"MODEL35\")\n",
    "\n",
    "system_message=\"\"\"\n",
    "You help spell check documents. Rewrite the entire document word for word, correcting any spelling or grammatical errors.\n",
    "\"\"\"\n",
    "prompt=f\"\"\"\n",
    "Documents to check and rewrite:\n",
    "{documents_to_check}\n",
    "\"\"\"\n",
    "\n",
    "result,prompt_tokens,completion_tokens,completion_text,e2e_time=aoai_call(system_message,prompt,model)\n",
    "print(f\"Prompt Tokens: {prompt_tokens}\")\n",
    "print(f\"Completion Tokens: {completion_tokens}\")\n",
    "print(f\"Time taken: {e2e_time:.2f} seconds\")\n",
    "print(completion_text)\n"
   ]
  }
 ],
 "metadata": {
  "kernelspec": {
   "display_name": ".venv",
   "language": "python",
   "name": "python3"
  },
  "language_info": {
   "codemirror_mode": {
    "name": "ipython",
    "version": 3
   },
   "file_extension": ".py",
   "mimetype": "text/x-python",
   "name": "python",
   "nbconvert_exporter": "python",
   "pygments_lexer": "ipython3",
   "version": "3.11.9"
  }
 },
 "nbformat": 4,
 "nbformat_minor": 2
}
